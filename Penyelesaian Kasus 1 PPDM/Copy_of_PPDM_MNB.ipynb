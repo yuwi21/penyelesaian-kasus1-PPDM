{
  "nbformat": 4,
  "nbformat_minor": 0,
  "metadata": {
    "colab": {
      "provenance": [],
      "gpuType": "T4"
    },
    "kernelspec": {
      "name": "python3",
      "display_name": "Python 3"
    },
    "language_info": {
      "name": "python"
    },
    "accelerator": "GPU"
  },
  "cells": [
    {
      "cell_type": "code",
      "execution_count": null,
      "metadata": {
        "id": "Phc0s7tVUKne"
      },
      "outputs": [],
      "source": [
        "import pandas as pd\n",
        "import numpy as np\n",
        "import seaborn as sns\n",
        "import matplotlib.pyplot as plt\n",
        "from time import time"
      ]
    },
    {
      "cell_type": "code",
      "source": [
        "path = 'https://raw.githubusercontent.com/iwanlaudin0101/teks-klasifikasi-menggunakan-model-lstm/master/Dataset/indosum%20datasets.txt'\n",
        "df = pd.read_csv(path, delimiter='\\t', header=None)\n",
        "df.columns = ['kategori','sumber','berita']\n",
        "df = df[(df['kategori'] != 'showbiz')]\n",
        "df.head()"
      ],
      "metadata": {
        "colab": {
          "base_uri": "https://localhost:8080/",
          "height": 206
        },
        "id": "ynk1ggYIoof-",
        "outputId": "d0953c7d-3b89-4398-e396-1112def9d782"
      },
      "execution_count": null,
      "outputs": [
        {
          "output_type": "execute_result",
          "data": {
            "text/plain": [
              "    kategori          sumber  \\\n",
              "0  teknologi        kumparan   \n",
              "1  teknologi  dailysocial.id   \n",
              "2  teknologi  dailysocial.id   \n",
              "3  teknologi        kumparan   \n",
              "4  teknologi  dailysocial.id   \n",
              "\n",
              "                                              berita  \n",
              "0  Uber pada hari Jumat mengatakan akan menguak d...  \n",
              "1  Menyusul jejak NES Classic Edition , SNES Clas...  \n",
              "2  MDI Ventures , perusahaan modal ventura yang d...  \n",
              "3  Mazda masih menutup rapat informasi soal sport...  \n",
              "4  Sampai di akhir tahun 2017 ini , frasa “ print...  "
            ],
            "text/html": [
              "\n",
              "  <div id=\"df-b0b82ad9-9e04-45bf-bc74-4654e4940fc1\" class=\"colab-df-container\">\n",
              "    <div>\n",
              "<style scoped>\n",
              "    .dataframe tbody tr th:only-of-type {\n",
              "        vertical-align: middle;\n",
              "    }\n",
              "\n",
              "    .dataframe tbody tr th {\n",
              "        vertical-align: top;\n",
              "    }\n",
              "\n",
              "    .dataframe thead th {\n",
              "        text-align: right;\n",
              "    }\n",
              "</style>\n",
              "<table border=\"1\" class=\"dataframe\">\n",
              "  <thead>\n",
              "    <tr style=\"text-align: right;\">\n",
              "      <th></th>\n",
              "      <th>kategori</th>\n",
              "      <th>sumber</th>\n",
              "      <th>berita</th>\n",
              "    </tr>\n",
              "  </thead>\n",
              "  <tbody>\n",
              "    <tr>\n",
              "      <th>0</th>\n",
              "      <td>teknologi</td>\n",
              "      <td>kumparan</td>\n",
              "      <td>Uber pada hari Jumat mengatakan akan menguak d...</td>\n",
              "    </tr>\n",
              "    <tr>\n",
              "      <th>1</th>\n",
              "      <td>teknologi</td>\n",
              "      <td>dailysocial.id</td>\n",
              "      <td>Menyusul jejak NES Classic Edition , SNES Clas...</td>\n",
              "    </tr>\n",
              "    <tr>\n",
              "      <th>2</th>\n",
              "      <td>teknologi</td>\n",
              "      <td>dailysocial.id</td>\n",
              "      <td>MDI Ventures , perusahaan modal ventura yang d...</td>\n",
              "    </tr>\n",
              "    <tr>\n",
              "      <th>3</th>\n",
              "      <td>teknologi</td>\n",
              "      <td>kumparan</td>\n",
              "      <td>Mazda masih menutup rapat informasi soal sport...</td>\n",
              "    </tr>\n",
              "    <tr>\n",
              "      <th>4</th>\n",
              "      <td>teknologi</td>\n",
              "      <td>dailysocial.id</td>\n",
              "      <td>Sampai di akhir tahun 2017 ini , frasa “ print...</td>\n",
              "    </tr>\n",
              "  </tbody>\n",
              "</table>\n",
              "</div>\n",
              "    <div class=\"colab-df-buttons\">\n",
              "\n",
              "  <div class=\"colab-df-container\">\n",
              "    <button class=\"colab-df-convert\" onclick=\"convertToInteractive('df-b0b82ad9-9e04-45bf-bc74-4654e4940fc1')\"\n",
              "            title=\"Convert this dataframe to an interactive table.\"\n",
              "            style=\"display:none;\">\n",
              "\n",
              "  <svg xmlns=\"http://www.w3.org/2000/svg\" height=\"24px\" viewBox=\"0 -960 960 960\">\n",
              "    <path d=\"M120-120v-720h720v720H120Zm60-500h600v-160H180v160Zm220 220h160v-160H400v160Zm0 220h160v-160H400v160ZM180-400h160v-160H180v160Zm440 0h160v-160H620v160ZM180-180h160v-160H180v160Zm440 0h160v-160H620v160Z\"/>\n",
              "  </svg>\n",
              "    </button>\n",
              "\n",
              "  <style>\n",
              "    .colab-df-container {\n",
              "      display:flex;\n",
              "      gap: 12px;\n",
              "    }\n",
              "\n",
              "    .colab-df-convert {\n",
              "      background-color: #E8F0FE;\n",
              "      border: none;\n",
              "      border-radius: 50%;\n",
              "      cursor: pointer;\n",
              "      display: none;\n",
              "      fill: #1967D2;\n",
              "      height: 32px;\n",
              "      padding: 0 0 0 0;\n",
              "      width: 32px;\n",
              "    }\n",
              "\n",
              "    .colab-df-convert:hover {\n",
              "      background-color: #E2EBFA;\n",
              "      box-shadow: 0px 1px 2px rgba(60, 64, 67, 0.3), 0px 1px 3px 1px rgba(60, 64, 67, 0.15);\n",
              "      fill: #174EA6;\n",
              "    }\n",
              "\n",
              "    .colab-df-buttons div {\n",
              "      margin-bottom: 4px;\n",
              "    }\n",
              "\n",
              "    [theme=dark] .colab-df-convert {\n",
              "      background-color: #3B4455;\n",
              "      fill: #D2E3FC;\n",
              "    }\n",
              "\n",
              "    [theme=dark] .colab-df-convert:hover {\n",
              "      background-color: #434B5C;\n",
              "      box-shadow: 0px 1px 3px 1px rgba(0, 0, 0, 0.15);\n",
              "      filter: drop-shadow(0px 1px 2px rgba(0, 0, 0, 0.3));\n",
              "      fill: #FFFFFF;\n",
              "    }\n",
              "  </style>\n",
              "\n",
              "    <script>\n",
              "      const buttonEl =\n",
              "        document.querySelector('#df-b0b82ad9-9e04-45bf-bc74-4654e4940fc1 button.colab-df-convert');\n",
              "      buttonEl.style.display =\n",
              "        google.colab.kernel.accessAllowed ? 'block' : 'none';\n",
              "\n",
              "      async function convertToInteractive(key) {\n",
              "        const element = document.querySelector('#df-b0b82ad9-9e04-45bf-bc74-4654e4940fc1');\n",
              "        const dataTable =\n",
              "          await google.colab.kernel.invokeFunction('convertToInteractive',\n",
              "                                                    [key], {});\n",
              "        if (!dataTable) return;\n",
              "\n",
              "        const docLinkHtml = 'Like what you see? Visit the ' +\n",
              "          '<a target=\"_blank\" href=https://colab.research.google.com/notebooks/data_table.ipynb>data table notebook</a>'\n",
              "          + ' to learn more about interactive tables.';\n",
              "        element.innerHTML = '';\n",
              "        dataTable['output_type'] = 'display_data';\n",
              "        await google.colab.output.renderOutput(dataTable, element);\n",
              "        const docLink = document.createElement('div');\n",
              "        docLink.innerHTML = docLinkHtml;\n",
              "        element.appendChild(docLink);\n",
              "      }\n",
              "    </script>\n",
              "  </div>\n",
              "\n",
              "\n",
              "<div id=\"df-b80e51d7-d30b-4503-8f5c-8eadf48b1ada\">\n",
              "  <button class=\"colab-df-quickchart\" onclick=\"quickchart('df-b80e51d7-d30b-4503-8f5c-8eadf48b1ada')\"\n",
              "            title=\"Suggest charts\"\n",
              "            style=\"display:none;\">\n",
              "\n",
              "<svg xmlns=\"http://www.w3.org/2000/svg\" height=\"24px\"viewBox=\"0 0 24 24\"\n",
              "     width=\"24px\">\n",
              "    <g>\n",
              "        <path d=\"M19 3H5c-1.1 0-2 .9-2 2v14c0 1.1.9 2 2 2h14c1.1 0 2-.9 2-2V5c0-1.1-.9-2-2-2zM9 17H7v-7h2v7zm4 0h-2V7h2v10zm4 0h-2v-4h2v4z\"/>\n",
              "    </g>\n",
              "</svg>\n",
              "  </button>\n",
              "\n",
              "<style>\n",
              "  .colab-df-quickchart {\n",
              "      --bg-color: #E8F0FE;\n",
              "      --fill-color: #1967D2;\n",
              "      --hover-bg-color: #E2EBFA;\n",
              "      --hover-fill-color: #174EA6;\n",
              "      --disabled-fill-color: #AAA;\n",
              "      --disabled-bg-color: #DDD;\n",
              "  }\n",
              "\n",
              "  [theme=dark] .colab-df-quickchart {\n",
              "      --bg-color: #3B4455;\n",
              "      --fill-color: #D2E3FC;\n",
              "      --hover-bg-color: #434B5C;\n",
              "      --hover-fill-color: #FFFFFF;\n",
              "      --disabled-bg-color: #3B4455;\n",
              "      --disabled-fill-color: #666;\n",
              "  }\n",
              "\n",
              "  .colab-df-quickchart {\n",
              "    background-color: var(--bg-color);\n",
              "    border: none;\n",
              "    border-radius: 50%;\n",
              "    cursor: pointer;\n",
              "    display: none;\n",
              "    fill: var(--fill-color);\n",
              "    height: 32px;\n",
              "    padding: 0;\n",
              "    width: 32px;\n",
              "  }\n",
              "\n",
              "  .colab-df-quickchart:hover {\n",
              "    background-color: var(--hover-bg-color);\n",
              "    box-shadow: 0 1px 2px rgba(60, 64, 67, 0.3), 0 1px 3px 1px rgba(60, 64, 67, 0.15);\n",
              "    fill: var(--button-hover-fill-color);\n",
              "  }\n",
              "\n",
              "  .colab-df-quickchart-complete:disabled,\n",
              "  .colab-df-quickchart-complete:disabled:hover {\n",
              "    background-color: var(--disabled-bg-color);\n",
              "    fill: var(--disabled-fill-color);\n",
              "    box-shadow: none;\n",
              "  }\n",
              "\n",
              "  .colab-df-spinner {\n",
              "    border: 2px solid var(--fill-color);\n",
              "    border-color: transparent;\n",
              "    border-bottom-color: var(--fill-color);\n",
              "    animation:\n",
              "      spin 1s steps(1) infinite;\n",
              "  }\n",
              "\n",
              "  @keyframes spin {\n",
              "    0% {\n",
              "      border-color: transparent;\n",
              "      border-bottom-color: var(--fill-color);\n",
              "      border-left-color: var(--fill-color);\n",
              "    }\n",
              "    20% {\n",
              "      border-color: transparent;\n",
              "      border-left-color: var(--fill-color);\n",
              "      border-top-color: var(--fill-color);\n",
              "    }\n",
              "    30% {\n",
              "      border-color: transparent;\n",
              "      border-left-color: var(--fill-color);\n",
              "      border-top-color: var(--fill-color);\n",
              "      border-right-color: var(--fill-color);\n",
              "    }\n",
              "    40% {\n",
              "      border-color: transparent;\n",
              "      border-right-color: var(--fill-color);\n",
              "      border-top-color: var(--fill-color);\n",
              "    }\n",
              "    60% {\n",
              "      border-color: transparent;\n",
              "      border-right-color: var(--fill-color);\n",
              "    }\n",
              "    80% {\n",
              "      border-color: transparent;\n",
              "      border-right-color: var(--fill-color);\n",
              "      border-bottom-color: var(--fill-color);\n",
              "    }\n",
              "    90% {\n",
              "      border-color: transparent;\n",
              "      border-bottom-color: var(--fill-color);\n",
              "    }\n",
              "  }\n",
              "</style>\n",
              "\n",
              "  <script>\n",
              "    async function quickchart(key) {\n",
              "      const quickchartButtonEl =\n",
              "        document.querySelector('#' + key + ' button');\n",
              "      quickchartButtonEl.disabled = true;  // To prevent multiple clicks.\n",
              "      quickchartButtonEl.classList.add('colab-df-spinner');\n",
              "      try {\n",
              "        const charts = await google.colab.kernel.invokeFunction(\n",
              "            'suggestCharts', [key], {});\n",
              "      } catch (error) {\n",
              "        console.error('Error during call to suggestCharts:', error);\n",
              "      }\n",
              "      quickchartButtonEl.classList.remove('colab-df-spinner');\n",
              "      quickchartButtonEl.classList.add('colab-df-quickchart-complete');\n",
              "    }\n",
              "    (() => {\n",
              "      let quickchartButtonEl =\n",
              "        document.querySelector('#df-b80e51d7-d30b-4503-8f5c-8eadf48b1ada button');\n",
              "      quickchartButtonEl.style.display =\n",
              "        google.colab.kernel.accessAllowed ? 'block' : 'none';\n",
              "    })();\n",
              "  </script>\n",
              "</div>\n",
              "    </div>\n",
              "  </div>\n"
            ],
            "application/vnd.google.colaboratory.intrinsic+json": {
              "type": "dataframe",
              "variable_name": "df",
              "summary": "{\n  \"name\": \"df\",\n  \"rows\": 8000,\n  \"fields\": [\n    {\n      \"column\": \"kategori\",\n      \"properties\": {\n        \"dtype\": \"category\",\n        \"num_unique_values\": 4,\n        \"samples\": [\n          \"tajuk utama\",\n          \"hiburan\",\n          \"teknologi\"\n        ],\n        \"semantic_type\": \"\",\n        \"description\": \"\"\n      }\n    },\n    {\n      \"column\": \"sumber\",\n      \"properties\": {\n        \"dtype\": \"category\",\n        \"num_unique_values\": 10,\n        \"samples\": [\n          \"rimanews\",\n          \"dailysocial.id\",\n          \"suara\"\n        ],\n        \"semantic_type\": \"\",\n        \"description\": \"\"\n      }\n    },\n    {\n      \"column\": \"berita\",\n      \"properties\": {\n        \"dtype\": \"string\",\n        \"num_unique_values\": 8000,\n        \"samples\": [\n          \"Penyidik KPK menjadwalkan pemeriksaan terhadap Bupati Kutai Kartangara Rita Widyasari . Ia akan diperiksa sebagai tersangka kasus dugaan suap dan juga gratifikasi terkait jabatannya selaku Bupati . \\\" Hari ini kami mengagendakan pemeriksaan RIW sebagai tersangka , \\\" kata juru bicara KPK , Febri Diansyah , saat dikonfirmasi , Rabu ( 4 / 10 ) . Pemanggilan ini merupakan yang pertama kali setelah KPK menetapkan Rita sebagai tersangka . Ia sudah ditetapkan sebagai tersangka oleh KPK sejak tanggal 19 September 2017 . KPK menjerat Rita dengan dua sangkaan yang berbeda yakni suap dan gratifikasi . Untuk sangkaan pertama , Rita diduga menerima suap terkait pemberian izin kepada PT Sawit Golden Prima ( PT SGP ) untuk membuka lahan kelapa sawit di Desa Kupang . Setelah menerbitkan izin beroperasi PT SGP , Rita diduga menerima Rp 6 miliar . Selain suap , Rita juga diduga menerima gratifikasi terkait jabatannya . Dia diketahui sudah menjabat sebagai Bupati Kutai Kartanegara selama dua periode . Total gratifikasi yang diduga diterima Rita sebesar 775 ribu dolar AS atau sekitar Rp 6,97 miliar . Dalam kasus ini , selain Rita , KPK juga menetapkan Dirut PT SGP Heri Gun dan Komisaris PT Media Bangun Bersama , Khairuddin , sebagai tersangka . Sebelumnya , Rita kepada kumparan mengaku akan menghadapi kasus ini dengan tenang . Soal kasus gratifikasi yang menjeratnya , Rita akan menjelaskan semuanya ke KPK . \\\" Itu ( kasus gratifikasi ) akan saya jelaskan saat diperiksa , \\\" jelas Rita .\",\n          \"Rimanews - Dua petugas dan satu warga tewas setelah bom mobil meledak di luar pos polisi dekat kota Diyarbakir , Turki tenggara , pada Senin ( 15 / 08 / 2016 ) . Kelompok militer Kurdi diduga sebagai pelaku serangan tersebut , kata beberapa sumber keamanan setempat . Sejumlah ambulans segera dikirim menuju tempat kejadian , kantor berita Dogan melaporkan . Daerah tempat ledakan itu berada di jalan yang menghubungkan Diyarbakir dengan distrik Bismil , sekitar 50 kilometer di timur , kata sumber keamanan . Gambar siaran televisi CNN Turk menunjukkan bangunan pos polisi itu roboh sebagian akibat ledakan tersebut . Bom tersebut juga meninggalkan jejak lubang di tanah . Wilayah tenggara Turki menjadi garis pertempuran paling sengit antara pihak pemerintah dengan kelompok terlarang Partai Buruh Kurdistan ( PKK ) , terutama usai berakhirnya gencatan senjata antara kedua pihak pada Juli 2015 . Ribuan anggota PKK , petugas keamanan , dan warga tewas sejak pertempuran kembali terjadi di sejumlah wilayah tersebut . PKK masuk dalam daftar hitam teroris oleh pemerintahan Turki , Uni Eropa dan Amerika Serikat . Pada Ahad , mereka merayakan hari untuk pertama kalinya PKK mengangkat senjata memperjuangkan kemerdekaan melawan pemerintah Turki sejak 1984 . Lebih dari 40.000 orang tewas dalam konflik 32 tahun tersebut .\",\n          \"Tak lama setelah hadir di App Store , platform pembayaran online PayPal hadir juga di Skype , aplikasi pesan dan telepon milik Microsoft . Menawarkan alternatif pengiriman uang langsung dari Skype , tanpa harus repot ke situs resmi PayPal atau pergi ke bank . Dukungan pembayaran dan transfer uang PayPal dihadirkan untuk pengguna Android dan iOS . Sedikitnya ada 22 negara yang sudah bisa menggunakan integrasi baru ini . Bagi mereka berada di salah satu negara terdukung , bakal menjumpai sebuah tombol berlabel Send Money langsung di dalam jendela percakapan . Sayangnya Indonesia belum beruntung karena tidak masuk dalam daftar 22 negara yang dimaksudkan tadi . Cara pakainya diklaim cukup mudah . Pengguna cukup menekan tombol Send Money di jendela obrolan , kemudian mengonfirmasi lokasi dan melakukan integrasi akun PayPal dan profil Skype . Setelah proses ini tuntas , pengguna bisa langsung mengirimkan uang ke teman . Bagi pengguna yang mempunyai saldo PayPal bisa langsung mengirimkan uang dengan nomial tertentu . Tetapi jika akunnya sudah terhubung ke kartu kredit , maka saldo akan ditarik dari sana sesuai nominal yang dikirimkan . Yang menarik , untuk bisa mengirimkan uang , pengguna wajib memasang Skype versi teranyar , tetapi tidak demikian dengan penerima . Mereka bebas dan bisa menggunakan versi berapapun . Tak lama sebelum penambahan fitur pengiriman uang ini , Microsoft juga memoles tampilan Skype sehingga terlihat sama sekali berbeda dari sebelumnya , bersama fitur tiruan Snapchat untuk para pengguna millenial . Sumber berita PayPal dan Microsoft . DailySocial.id adalah portal berita startup dan inovasi teknologi . Kamu bisa menjadi member komunitas startup dan inovasi DailySocial.id , mengunduh laporan riset dan statistik seputar teknologi secara cuma-cuma , dan mengikuti berita startup Indonesia dan gadget terbaru .\"\n        ],\n        \"semantic_type\": \"\",\n        \"description\": \"\"\n      }\n    }\n  ]\n}"
            }
          },
          "metadata": {},
          "execution_count": 3
        }
      ]
    },
    {
      "cell_type": "code",
      "source": [
        "df.info()"
      ],
      "metadata": {
        "colab": {
          "base_uri": "https://localhost:8080/"
        },
        "id": "Gy2U4xfcquc-",
        "outputId": "c77380b2-aed9-417c-93e5-fe790f903e33"
      },
      "execution_count": null,
      "outputs": [
        {
          "output_type": "stream",
          "name": "stdout",
          "text": [
            "<class 'pandas.core.frame.DataFrame'>\n",
            "Index: 8000 entries, 0 to 9999\n",
            "Data columns (total 3 columns):\n",
            " #   Column    Non-Null Count  Dtype \n",
            "---  ------    --------------  ----- \n",
            " 0   kategori  8000 non-null   object\n",
            " 1   sumber    8000 non-null   object\n",
            " 2   berita    8000 non-null   object\n",
            "dtypes: object(3)\n",
            "memory usage: 250.0+ KB\n"
          ]
        }
      ]
    },
    {
      "cell_type": "code",
      "source": [
        "df = df[(df['kategori'] != 'tajuk utama')]"
      ],
      "metadata": {
        "id": "dY3Lwjrvr89q"
      },
      "execution_count": null,
      "outputs": []
    },
    {
      "cell_type": "code",
      "source": [
        "df.info()"
      ],
      "metadata": {
        "colab": {
          "base_uri": "https://localhost:8080/"
        },
        "id": "3fQNu6d4sJou",
        "outputId": "346ab43b-4056-47fb-c4a3-b87d2f0a67ff"
      },
      "execution_count": null,
      "outputs": [
        {
          "output_type": "stream",
          "name": "stdout",
          "text": [
            "<class 'pandas.core.frame.DataFrame'>\n",
            "Index: 6000 entries, 0 to 9999\n",
            "Data columns (total 3 columns):\n",
            " #   Column    Non-Null Count  Dtype \n",
            "---  ------    --------------  ----- \n",
            " 0   kategori  6000 non-null   object\n",
            " 1   sumber    6000 non-null   object\n",
            " 2   berita    6000 non-null   object\n",
            "dtypes: object(3)\n",
            "memory usage: 187.5+ KB\n"
          ]
        }
      ]
    },
    {
      "cell_type": "code",
      "source": [
        "df.drop('sumber', axis=1, inplace=True)"
      ],
      "metadata": {
        "id": "hHB9hCEFsX0x",
        "colab": {
          "base_uri": "https://localhost:8080/"
        },
        "outputId": "681e9916-2b27-41ca-a153-ffadeb7aed29"
      },
      "execution_count": null,
      "outputs": [
        {
          "output_type": "stream",
          "name": "stderr",
          "text": [
            "<ipython-input-7-323f32266d05>:1: SettingWithCopyWarning: \n",
            "A value is trying to be set on a copy of a slice from a DataFrame\n",
            "\n",
            "See the caveats in the documentation: https://pandas.pydata.org/pandas-docs/stable/user_guide/indexing.html#returning-a-view-versus-a-copy\n",
            "  df.drop('sumber', axis=1, inplace=True)\n"
          ]
        }
      ]
    },
    {
      "cell_type": "code",
      "source": [
        "sns.countplot(x=df['kategori'])\n",
        "plt.show()"
      ],
      "metadata": {
        "colab": {
          "base_uri": "https://localhost:8080/",
          "height": 449
        },
        "id": "eUe4j3DTsY7x",
        "outputId": "cd3b29c0-a7a1-48be-bae6-ac77d9fb054b"
      },
      "execution_count": null,
      "outputs": [
        {
          "output_type": "display_data",
          "data": {
            "text/plain": [
              "<Figure size 640x480 with 1 Axes>"
            ],
            "image/png": "[encoded data removed]"
          },
          "metadata": {}
        }
      ]
    },
    {
      "cell_type": "markdown",
      "source": [
        "#**Preprocessing**"
      ],
      "metadata": {
        "id": "2xMaLYSfsoqN"
      }
    },
    {
      "cell_type": "code",
      "source": [
        "!pip install PySastrawi"
      ],
      "metadata": {
        "colab": {
          "base_uri": "https://localhost:8080/"
        },
        "id": "eOAaGohPs7Vc",
        "outputId": "831adabe-7256-4a52-eed0-a1f2ac887c33"
      },
      "execution_count": null,
      "outputs": [
        {
          "output_type": "stream",
          "name": "stdout",
          "text": [
            "Collecting PySastrawi\n",
            "  Downloading PySastrawi-1.2.0-py2.py3-none-any.whl (210 kB)\n",
            "\u001b[?25l     \u001b[90m━━━━━━━━━━━━━━━━━━━━━━━━━━━━━━━━━━━━━━━━\u001b[0m \u001b[32m0.0/210.6 kB\u001b[0m \u001b[31m?\u001b[0m eta \u001b[36m-:--:--\u001b[0m\r\u001b[2K     \u001b[91m━━━━━━━━━━━━━━━━━━━━━━━━━━━━━━━━━\u001b[0m\u001b[90m╺\u001b[0m\u001b[90m━━━━━━\u001b[0m \u001b[32m174.1/210.6 kB\u001b[0m \u001b[31m5.0 MB/s\u001b[0m eta \u001b[36m0:00:01\u001b[0m\r\u001b[2K     \u001b[90m━━━━━━━━━━━━━━━━━━━━━━━━━━━━━━━━━━━━━━━━\u001b[0m \u001b[32m210.6/210.6 kB\u001b[0m \u001b[31m4.8 MB/s\u001b[0m eta \u001b[36m0:00:00\u001b[0m\n",
            "\u001b[?25hInstalling collected packages: PySastrawi\n",
            "Successfully installed PySastrawi-1.2.0\n"
          ]
        }
      ]
    },
    {
      "cell_type": "code",
      "source": [
        "import re, nltk\n",
        "import string\n",
        "from Sastrawi.Stemmer.StemmerFactory import StemmerFactory\n",
        "from Sastrawi.StopWordRemover.StopWordRemoverFactory import StopWordRemoverFactory\n",
        "from nltk.tokenize import word_tokenize\n",
        "from nltk.stem import WordNetLemmatizer\n",
        "nltk.download('punkt')\n",
        "nltk.download('wordnet')\n",
        "nltk.download('omw-1.4')\n",
        "factory = StopWordRemoverFactory()\n",
        "stemmer = StemmerFactory().create_stemmer()\n",
        "Sastrawi_StopWords_id = factory.get_stop_words()"
      ],
      "metadata": {
        "colab": {
          "base_uri": "https://localhost:8080/"
        },
        "id": "lAW8h4T2ujuX",
        "outputId": "80998754-2647-4eaf-a097-c071ccf0f185"
      },
      "execution_count": null,
      "outputs": [
        {
          "output_type": "stream",
          "name": "stderr",
          "text": [
            "[nltk_data] Downloading package punkt to /root/nltk_data...\n",
            "[nltk_data]   Unzipping tokenizers/punkt.zip.\n",
            "[nltk_data] Downloading package wordnet to /root/nltk_data...\n",
            "[nltk_data] Downloading package omw-1.4 to /root/nltk_data...\n"
          ]
        }
      ]
    },
    {
      "cell_type": "code",
      "source": [
        "def olah_text(text):\n",
        "    text = text.lower()\n",
        "    text = ' '.join(re.sub(\"(@[A-Za-z0-9]+)|([^0-9A-Za-z \\t]) |(\\w+:\\/\\/\\S+)\", \" \", text).split())\n",
        "    text = re.sub(r'\\@\\w+|\\#\\w+|\\d+', '', text)\n",
        "    punct = str.maketrans('', '', string.punctuation+string.digits)\n",
        "    text = text.translate(punct)\n",
        "    # tokenisasi kata dan menghilangkan stop words dari teks berita\n",
        "    tokens = word_tokenize(text)\n",
        "    filtered_words = [w for w in tokens if w not in Sastrawi_StopWords_id]\n",
        "    # lemmetisasi kata\n",
        "    lemmatizer = WordNetLemmatizer()\n",
        "    lemma_words = [lemmatizer.lemmatize(w) for w in filtered_words]\n",
        "    text = \" \".join(lemma_words)\n",
        "    return text"
      ],
      "metadata": {
        "id": "4CuqLybIXWWN"
      },
      "execution_count": null,
      "outputs": []
    },
    {
      "cell_type": "code",
      "source": [
        "df['Hasil'] = df['berita'].apply(olah_text)"
      ],
      "metadata": {
        "id": "SuOyvH9gXk5s"
      },
      "execution_count": null,
      "outputs": []
    },
    {
      "cell_type": "markdown",
      "source": [
        "##**Hasil Preprocessing**"
      ],
      "metadata": {
        "id": "LmvlFvoJleIr"
      }
    },
    {
      "cell_type": "code",
      "source": [
        "df.head()"
      ],
      "metadata": {
        "colab": {
          "base_uri": "https://localhost:8080/",
          "height": 206
        },
        "id": "N1ksIqm4bhlK",
        "outputId": "e20eb337-70fd-4da7-9290-b87e839c0e7f"
      },
      "execution_count": null,
      "outputs": [
        {
          "output_type": "execute_result",
          "data": {
            "text/plain": [
              "    kategori                                             berita  \\\n",
              "0  teknologi  Uber pada hari Jumat mengatakan akan menguak d...   \n",
              "1  teknologi  Menyusul jejak NES Classic Edition , SNES Clas...   \n",
              "2  teknologi  MDI Ventures , perusahaan modal ventura yang d...   \n",
              "3  teknologi  Mazda masih menutup rapat informasi soal sport...   \n",
              "4  teknologi  Sampai di akhir tahun 2017 ini , frasa “ print...   \n",
              "\n",
              "                                               Hasil  \n",
              "0  uber jumat menguak data perjalanan paris publi...  \n",
              "1  menyusul jejak ne classic edition snes classic...  \n",
              "2  mdi venture perusahaan modal ventura didukung ...  \n",
              "3  mazda menutup rapat informasi sportscar anyar ...  \n",
              "4  tahun frasa printer mencetak video terdengar m...  "
            ],
            "text/html": [
              "\n",
              "  <div id=\"df-9fe4338a-4ec3-4405-855c-63da885f7a38\" class=\"colab-df-container\">\n",
              "    <div>\n",
              "<style scoped>\n",
              "    .dataframe tbody tr th:only-of-type {\n",
              "        vertical-align: middle;\n",
              "    }\n",
              "\n",
              "    .dataframe tbody tr th {\n",
              "        vertical-align: top;\n",
              "    }\n",
              "\n",
              "    .dataframe thead th {\n",
              "        text-align: right;\n",
              "    }\n",
              "</style>\n",
              "<table border=\"1\" class=\"dataframe\">\n",
              "  <thead>\n",
              "    <tr style=\"text-align: right;\">\n",
              "      <th></th>\n",
              "      <th>kategori</th>\n",
              "      <th>berita</th>\n",
              "      <th>Hasil</th>\n",
              "    </tr>\n",
              "  </thead>\n",
              "  <tbody>\n",
              "    <tr>\n",
              "      <th>0</th>\n",
              "      <td>teknologi</td>\n",
              "      <td>Uber pada hari Jumat mengatakan akan menguak d...</td>\n",
              "      <td>uber jumat menguak data perjalanan paris publi...</td>\n",
              "    </tr>\n",
              "    <tr>\n",
              "      <th>1</th>\n",
              "      <td>teknologi</td>\n",
              "      <td>Menyusul jejak NES Classic Edition , SNES Clas...</td>\n",
              "      <td>menyusul jejak ne classic edition snes classic...</td>\n",
              "    </tr>\n",
              "    <tr>\n",
              "      <th>2</th>\n",
              "      <td>teknologi</td>\n",
              "      <td>MDI Ventures , perusahaan modal ventura yang d...</td>\n",
              "      <td>mdi venture perusahaan modal ventura didukung ...</td>\n",
              "    </tr>\n",
              "    <tr>\n",
              "      <th>3</th>\n",
              "      <td>teknologi</td>\n",
              "      <td>Mazda masih menutup rapat informasi soal sport...</td>\n",
              "      <td>mazda menutup rapat informasi sportscar anyar ...</td>\n",
              "    </tr>\n",
              "    <tr>\n",
              "      <th>4</th>\n",
              "      <td>teknologi</td>\n",
              "      <td>Sampai di akhir tahun 2017 ini , frasa “ print...</td>\n",
              "      <td>tahun frasa printer mencetak video terdengar m...</td>\n",
              "    </tr>\n",
              "  </tbody>\n",
              "</table>\n",
              "</div>\n",
              "    <div class=\"colab-df-buttons\">\n",
              "\n",
              "  <div class=\"colab-df-container\">\n",
              "    <button class=\"colab-df-convert\" onclick=\"convertToInteractive('df-9fe4338a-4ec3-4405-855c-63da885f7a38')\"\n",
              "            title=\"Convert this dataframe to an interactive table.\"\n",
              "            style=\"display:none;\">\n",
              "\n",
              "  <svg xmlns=\"http://www.w3.org/2000/svg\" height=\"24px\" viewBox=\"0 -960 960 960\">\n",
              "    <path d=\"M120-120v-720h720v720H120Zm60-500h600v-160H180v160Zm220 220h160v-160H400v160Zm0 220h160v-160H400v160ZM180-400h160v-160H180v160Zm440 0h160v-160H620v160ZM180-180h160v-160H180v160Zm440 0h160v-160H620v160Z\"/>\n",
              "  </svg>\n",
              "    </button>\n",
              "\n",
              "  <style>\n",
              "    .colab-df-container {\n",
              "      display:flex;\n",
              "      gap: 12px;\n",
              "    }\n",
              "\n",
              "    .colab-df-convert {\n",
              "      background-color: #E8F0FE;\n",
              "      border: none;\n",
              "      border-radius: 50%;\n",
              "      cursor: pointer;\n",
              "      display: none;\n",
              "      fill: #1967D2;\n",
              "      height: 32px;\n",
              "      padding: 0 0 0 0;\n",
              "      width: 32px;\n",
              "    }\n",
              "\n",
              "    .colab-df-convert:hover {\n",
              "      background-color: #E2EBFA;\n",
              "      box-shadow: 0px 1px 2px rgba(60, 64, 67, 0.3), 0px 1px 3px 1px rgba(60, 64, 67, 0.15);\n",
              "      fill: #174EA6;\n",
              "    }\n",
              "\n",
              "    .colab-df-buttons div {\n",
              "      margin-bottom: 4px;\n",
              "    }\n",
              "\n",
              "    [theme=dark] .colab-df-convert {\n",
              "      background-color: #3B4455;\n",
              "      fill: #D2E3FC;\n",
              "    }\n",
              "\n",
              "    [theme=dark] .colab-df-convert:hover {\n",
              "      background-color: #434B5C;\n",
              "      box-shadow: 0px 1px 3px 1px rgba(0, 0, 0, 0.15);\n",
              "      filter: drop-shadow(0px 1px 2px rgba(0, 0, 0, 0.3));\n",
              "      fill: #FFFFFF;\n",
              "    }\n",
              "  </style>\n",
              "\n",
              "    <script>\n",
              "      const buttonEl =\n",
              "        document.querySelector('#df-9fe4338a-4ec3-4405-855c-63da885f7a38 button.colab-df-convert');\n",
              "      buttonEl.style.display =\n",
              "        google.colab.kernel.accessAllowed ? 'block' : 'none';\n",
              "\n",
              "      async function convertToInteractive(key) {\n",
              "        const element = document.querySelector('#df-9fe4338a-4ec3-4405-855c-63da885f7a38');\n",
              "        const dataTable =\n",
              "          await google.colab.kernel.invokeFunction('convertToInteractive',\n",
              "                                                    [key], {});\n",
              "        if (!dataTable) return;\n",
              "\n",
              "        const docLinkHtml = 'Like what you see? Visit the ' +\n",
              "          '<a target=\"_blank\" href=https://colab.research.google.com/notebooks/data_table.ipynb>data table notebook</a>'\n",
              "          + ' to learn more about interactive tables.';\n",
              "        element.innerHTML = '';\n",
              "        dataTable['output_type'] = 'display_data';\n",
              "        await google.colab.output.renderOutput(dataTable, element);\n",
              "        const docLink = document.createElement('div');\n",
              "        docLink.innerHTML = docLinkHtml;\n",
              "        element.appendChild(docLink);\n",
              "      }\n",
              "    </script>\n",
              "  </div>\n",
              "\n",
              "\n",
              "<div id=\"df-b2f39355-5450-4403-8fbd-59a64346ff7e\">\n",
              "  <button class=\"colab-df-quickchart\" onclick=\"quickchart('df-b2f39355-5450-4403-8fbd-59a64346ff7e')\"\n",
              "            title=\"Suggest charts\"\n",
              "            style=\"display:none;\">\n",
              "\n",
              "<svg xmlns=\"http://www.w3.org/2000/svg\" height=\"24px\"viewBox=\"0 0 24 24\"\n",
              "     width=\"24px\">\n",
              "    <g>\n",
              "        <path d=\"M19 3H5c-1.1 0-2 .9-2 2v14c0 1.1.9 2 2 2h14c1.1 0 2-.9 2-2V5c0-1.1-.9-2-2-2zM9 17H7v-7h2v7zm4 0h-2V7h2v10zm4 0h-2v-4h2v4z\"/>\n",
              "    </g>\n",
              "</svg>\n",
              "  </button>\n",
              "\n",
              "<style>\n",
              "  .colab-df-quickchart {\n",
              "      --bg-color: #E8F0FE;\n",
              "      --fill-color: #1967D2;\n",
              "      --hover-bg-color: #E2EBFA;\n",
              "      --hover-fill-color: #174EA6;\n",
              "      --disabled-fill-color: #AAA;\n",
              "      --disabled-bg-color: #DDD;\n",
              "  }\n",
              "\n",
              "  [theme=dark] .colab-df-quickchart {\n",
              "      --bg-color: #3B4455;\n",
              "      --fill-color: #D2E3FC;\n",
              "      --hover-bg-color: #434B5C;\n",
              "      --hover-fill-color: #FFFFFF;\n",
              "      --disabled-bg-color: #3B4455;\n",
              "      --disabled-fill-color: #666;\n",
              "  }\n",
              "\n",
              "  .colab-df-quickchart {\n",
              "    background-color: var(--bg-color);\n",
              "    border: none;\n",
              "    border-radius: 50%;\n",
              "    cursor: pointer;\n",
              "    display: none;\n",
              "    fill: var(--fill-color);\n",
              "    height: 32px;\n",
              "    padding: 0;\n",
              "    width: 32px;\n",
              "  }\n",
              "\n",
              "  .colab-df-quickchart:hover {\n",
              "    background-color: var(--hover-bg-color);\n",
              "    box-shadow: 0 1px 2px rgba(60, 64, 67, 0.3), 0 1px 3px 1px rgba(60, 64, 67, 0.15);\n",
              "    fill: var(--button-hover-fill-color);\n",
              "  }\n",
              "\n",
              "  .colab-df-quickchart-complete:disabled,\n",
              "  .colab-df-quickchart-complete:disabled:hover {\n",
              "    background-color: var(--disabled-bg-color);\n",
              "    fill: var(--disabled-fill-color);\n",
              "    box-shadow: none;\n",
              "  }\n",
              "\n",
              "  .colab-df-spinner {\n",
              "    border: 2px solid var(--fill-color);\n",
              "    border-color: transparent;\n",
              "    border-bottom-color: var(--fill-color);\n",
              "    animation:\n",
              "      spin 1s steps(1) infinite;\n",
              "  }\n",
              "\n",
              "  @keyframes spin {\n",
              "    0% {\n",
              "      border-color: transparent;\n",
              "      border-bottom-color: var(--fill-color);\n",
              "      border-left-color: var(--fill-color);\n",
              "    }\n",
              "    20% {\n",
              "      border-color: transparent;\n",
              "      border-left-color: var(--fill-color);\n",
              "      border-top-color: var(--fill-color);\n",
              "    }\n",
              "    30% {\n",
              "      border-color: transparent;\n",
              "      border-left-color: var(--fill-color);\n",
              "      border-top-color: var(--fill-color);\n",
              "      border-right-color: var(--fill-color);\n",
              "    }\n",
              "    40% {\n",
              "      border-color: transparent;\n",
              "      border-right-color: var(--fill-color);\n",
              "      border-top-color: var(--fill-color);\n",
              "    }\n",
              "    60% {\n",
              "      border-color: transparent;\n",
              "      border-right-color: var(--fill-color);\n",
              "    }\n",
              "    80% {\n",
              "      border-color: transparent;\n",
              "      border-right-color: var(--fill-color);\n",
              "      border-bottom-color: var(--fill-color);\n",
              "    }\n",
              "    90% {\n",
              "      border-color: transparent;\n",
              "      border-bottom-color: var(--fill-color);\n",
              "    }\n",
              "  }\n",
              "</style>\n",
              "\n",
              "  <script>\n",
              "    async function quickchart(key) {\n",
              "      const quickchartButtonEl =\n",
              "        document.querySelector('#' + key + ' button');\n",
              "      quickchartButtonEl.disabled = true;  // To prevent multiple clicks.\n",
              "      quickchartButtonEl.classList.add('colab-df-spinner');\n",
              "      try {\n",
              "        const charts = await google.colab.kernel.invokeFunction(\n",
              "            'suggestCharts', [key], {});\n",
              "      } catch (error) {\n",
              "        console.error('Error during call to suggestCharts:', error);\n",
              "      }\n",
              "      quickchartButtonEl.classList.remove('colab-df-spinner');\n",
              "      quickchartButtonEl.classList.add('colab-df-quickchart-complete');\n",
              "    }\n",
              "    (() => {\n",
              "      let quickchartButtonEl =\n",
              "        document.querySelector('#df-b2f39355-5450-4403-8fbd-59a64346ff7e button');\n",
              "      quickchartButtonEl.style.display =\n",
              "        google.colab.kernel.accessAllowed ? 'block' : 'none';\n",
              "    })();\n",
              "  </script>\n",
              "</div>\n",
              "    </div>\n",
              "  </div>\n"
            ],
            "application/vnd.google.colaboratory.intrinsic+json": {
              "type": "dataframe",
              "variable_name": "df",
              "summary": "{\n  \"name\": \"df\",\n  \"rows\": 6000,\n  \"fields\": [\n    {\n      \"column\": \"kategori\",\n      \"properties\": {\n        \"dtype\": \"category\",\n        \"num_unique_values\": 3,\n        \"samples\": [\n          \"teknologi\",\n          \"olahraga\",\n          \"hiburan\"\n        ],\n        \"semantic_type\": \"\",\n        \"description\": \"\"\n      }\n    },\n    {\n      \"column\": \"berita\",\n      \"properties\": {\n        \"dtype\": \"string\",\n        \"num_unique_values\": 6000,\n        \"samples\": [\n          \"Banyak orang bersedia mengantre dan datang ke sinema buat menikmati \\u00a0 film di layar lebar plus dukungan \\u00a0 sistem audio high - end , tapi tak sedikit juga memilih menonton film favoritnya di HDTV di ruang keluarga demi mengurangi adanya gangguan . Namun jika Anda ingin alternatif yang betul-betul personal sekaligus portable , maka produk unik ini bisa jadi jawaban . Dua orang siswa SMA bernama Eli Silva dan Samir Faizi memperkenalkan Poptheatr , yaitu perangkat wearable yang dirancang sebagai \\u00a0 bioskop pribadi . Konsepnya sangat menarik : Anda bisa membawa serta menggunakannya di mana saja , lalu Poptheatr juga memastikan privasi tetap terjaga . Device ini sendiri memanfaatkan smartphone atau tablet Anda untuk jadi media player -nya . DailySocial.id adalah portal berita startup dan inovasi teknologi . Kamu bisa menjadi member komunitas startup dan inovasi DailySocial.id , mengunduh laporan riset dan statistik seputar teknologi secara cuma-cuma , dan mengikuti berita startup Indonesia dan gadget terbaru .\",\n          \"Thiago Motta tak memungkiri partai menghadapi AS Monaco akhir pekan ini penting untuk Paris Saint - Germain dalam perebutan mahkota juara Ligue 1 Prancis , namun ia menolak menyebutnya menentukan . Les Parisiens saat ini mendiami peringkat ketiga klasemen , terpaut tiga angka dari Monaco di tangga teratas . Lantaran perbedaan selisih gol yang sangat jauh - Monaco + 43 dan PSG + 26 - kemenangan hampir dipastikan belum akan membawa pasukan Unai Emery merebut tampuk pimpinan klasifika , tetapi kekalahan berpotensi membikin mereka tercecer dari persaingan . PSG RAMPUNGKAN TRANSFER GUEDES Namun , apa pun hasil yang muncul nanti , Motta beranggapan kans masih akan sangat terbuka untuk kedua kubu mengingat musim masih panjang . \\\" Benar , ini pertandingan penting , \\\" ujar sang gelandang Italia kepada Goal . \\\" Kami akan bermain di kandang dan kami sering kali menderita menghadapi tim ini , tetapi laga ini tidak krusial . Jika kami menang , itu akan menjadi pukulan telak untuk Monaco , tapi tak akan menentukan . \\\" Lebih lanjut , Motta mengutarakan ambisi untuk berprestasi tinggi bersama PSG musim ini . Di bawah komando Emery , bekas penggawa Inter ini kembali tampil sebagai salah satu pilar inti di lapangan tengah tim . \\\" Saya sangat senang dapat membantu tim - dan musim belum berakhir , saya berharap untuk terus bermain seperti ini , \\\" ujar Motta . \\\" Kami harus menyudahi musim dengan baik karena kami memiliki standar sangat tinggi dan kami tahu bahwa bermain untuk PSG membutuhkan ambisi . Saya di sini untuk memenangi titel - titel dan saya masih ingin melakukan itu tahun ini , \\\" pungkasnya .\",\n          \"Tren berbelanja online mulai meningkat di masyarakat . Banyak yang mulai merasakan kemudahan dan kenyamanan , mulai dari pemesanan , pembayaran hingga pengiriman . Hanya saja kegiatan transaksi online tidak luput dari tindak penipuan . Bahkan modusnya pun semakin banyak . Sasarannya masyarakat yang kurang begitu peduli bahkan sampai mereka yang kurang waspada . Banyak penyedia layanan e - commerce berlomba meminimalisir hal tersebut . Salah satunya menggunakan teknologi kecerdasan buatan ( artificial intelligence / AI ) , seperti yang dilakukan Bukalapak . Teknologi kecerdasan buatan adalah teknologi yang mampu diterapkan pada sebuah sistem yang belajar . Mempelajari data . Dengan data tersebut , sistem nantinya bisa mengenali pola dan memprediksi sebuah hal . Hal tersebut yang sekiranya juga diterapkan untuk sistem pencegahan penipuan . DailySocial berbincang dengan Vice President of Engineering Bukalapak Ibrahim Arief mengenai penggunaan AI di Bukalapak . Ia bercerita saat ini Bukalapak sudah mulai menerapkan AI untuk beberapa keperluan internal dan pengguna , salah satunya ada pada pencegahan penipuan . Bukalapak saat ini memiliki divisi Trust & Safety yang memiliki tugas pokok mengelola dan meminimalisir risiko penipuan yang mungkin dihadapi pengguna Bukalapak . Tim Anti - Fraud berada di bawah divisi Trust & Safety sebagai bagian dari upaya meminimalkan tindakan penipuan . Tim Anti - Fraud secara khusus bertugas melakukan penegahan , monitoring , analisa dan pemecahan kasus penipuan yang dialami pengguna Bukalapak dengan tujuan untuk menjamin kepercayaan dan menjaga keamaan pengguna saat bertransaksi di Bukalapak . Termasuk penerapan teknologi AI untuk membantu kerja tim Anti - Fraud mencegah penipuan yang terjadi . Di sisi lain Anti - Fraud berusaha juga mendorong security awareness bagi pengguna Bukalapak . \\u201c Tren fraud transaksi yang lazim terjadi belakangan ini , yaitu social engineering ( phishing atau scamming ) di platform online selain Bukalapak , menjadikan edukasi user Bukalapak agar terhindar dari tindakan serupa di luar sistem Bukalapak sebagai salah satu perhatian khusus dari tim Anti - Fraud . Edukasi user ini dilakukan baik melalui pengembangan fitur maupun komunikasi dengan pengguna Bukalapak , \\u201d terang Ibrahim . Disampaikan Ibrahim , AI menjadi salah satu bagian penting dalam dapur Bukalapak . Sudah ada beberapa teknologi AI yang berjalan di dapur Bukalapak yang membantu kegiatan operasional dan salah satunya adalah untuk pencegahan penipuan . Di Bukalapak , sistem AI mempelajari data transaksi yang diklaim jumlahnya mencapai ukuran petabyte . Sebuah data yang sangat besar . Sistem dikembangkan mempertimbangkan dan mengolah banyak data dan konteks mengenai sebuah transaksi untuk menentukan risiko penipuan dari sebuah transaksi . Ia mengenali pola yang sudah dipelajari sebelumnya . \\u201c Kami telah mengembangkan sistem AI untuk rekomendasi belanja pengguna yang lebih baik serta menangani sistem keamanan untuk mencegah penipuan . Jadi , AI ini bisa menerima dan mempertimbangkan banyak sekali sinyal atau data dari sebuah transaksi agar kemudian diketahui jenis transaksi tersebut palsu atau tidak . Lewat pengembangan AI ini , pengguna bisa merasakan pengalaman belanja yang aman dan nyaman , \\u201d cerita Ibrahim . DailySocial.id adalah portal berita startup dan inovasi teknologi . Kamu bisa menjadi member komunitas startup dan inovasi DailySocial.id , mengunduh laporan riset dan statistik seputar teknologi secara cuma-cuma , dan mengikuti berita startup Indonesia dan gadget terbaru .\"\n        ],\n        \"semantic_type\": \"\",\n        \"description\": \"\"\n      }\n    },\n    {\n      \"column\": \"Hasil\",\n      \"properties\": {\n        \"dtype\": \"string\",\n        \"num_unique_values\": 6000,\n        \"samples\": [\n          \"bersedia mengantre sinema menikmati film layar lebar plus dukungan sistem audio high end memilih menonton film favoritnya hdtv ruang keluarga mengurangi gangguan alternatif betulbetul personal portable produk unik siswa sma bernama eli silva samir faizi memperkenalkan poptheatr perangkat wearable dirancang bioskop pribadi konsepnya menarik membawa menggunakannya poptheatr privasi terjaga device memanfaatkan smartphone tablet medium player dailysocialid portal berita startup inovasi teknologi member komunitas startup inovasi dailysocialid mengunduh laporan riset statistik seputar teknologi cumacuma mengikuti berita startup indonesia gadget terbaru\",\n          \"thiago motta memungkiri partai menghadapi a monaco pekan paris saint germain perebutan mahkota juara ligue prancis menolak menyebutnya menentukan le parisiens mendiami peringkat ketiga klasemen terpaut angka monaco tangga teratas lantaran perbedaan selisih gol monaco psg kemenangan membawa pasukan unai emery merebut tampuk pimpinan klasifika kekalahan berpotensi membikin tercecer persaingan psg rampungkan transfer guedes hasil muncul motta beranggapan kans terbuka kubu musim pertandingan sang gelandang italia goal bermain kandang menderita menghadapi tim laga krusial menang pukulan telak monaco menentukan motta mengutarakan ambisi berprestasi tinggi psg musim komando emery bekas penggawa inter tampil salah pilar inti lapangan tengah tim senang membantu tim musim berharap bermain motta menyudahi musim memiliki standar tinggi bermain psg membutuhkan ambisi memenangi titel titel tahun pungkasnya\",\n          \"tren berbelanja online meningkat masyarakat merasakan kemudahan kenyamanan pemesanan pembayaran pengiriman kegiatan transaksi online luput tindak penipuan modusnya sasarannya masyarakat peduli waspada penyedia layanan commerce berlomba meminimalisir salah satunya teknologi kecerdasan buatan artificial intelligence ai bukalapak teknologi kecerdasan buatan teknologi diterapkan sistem belajar mempelajari data data sistem mengenali pola memprediksi diterapkan sistem pencegahan penipuan dailysocial berbincang vice president of engineering bukalapak ibrahim arief penggunaan ai bukalapak bercerita bukalapak menerapkan ai keperluan internal pengguna salah satunya pencegahan penipuan bukalapak memiliki divisi trust safety memiliki tugas pokok mengelola meminimalisir risiko penipuan dihadapi pengguna bukalapak tim anti fraud divisi trust safety upaya meminimalkan tindakan penipuan tim anti fraud bertugas penegahan monitoring analisa pemecahan penipuan dialami pengguna bukalapak tujuan menjamin kepercayaan menjaga keamaan pengguna bertransaksi bukalapak penerapan teknologi ai membantu tim anti fraud mencegah penipuan sisi anti fraud berusaha mendorong security awareness pengguna bukalapak tren fraud transaksi lazim social engineering phishing scamming platform online bukalapak menjadikan edukasi user bukalapak terhindar tindakan sistem bukalapak salah perhatian tim anti fraud edukasi user pengembangan fitur komunikasi pengguna bukalapak terang ibrahim ibrahim ai salah dapur bukalapak teknologi ai berjalan dapur bukalapak membantu kegiatan operasional salah satunya pencegahan penipuan bukalapak sistem ai mempelajari data transaksi diklaim mencapai ukuran petabyte data sistem dikembangkan mempertimbangkan mengolah data konteks transaksi menentukan risiko penipuan transaksi mengenali pola dipelajari mengembangkan sistem ai rekomendasi belanja pengguna menangani sistem keamanan mencegah penipuan ai menerima mempertimbangkan sinyal data transaksi jenis transaksi palsu pengembangan ai pengguna merasakan pengalaman belanja aman nyaman cerita ibrahim dailysocialid portal berita startup inovasi teknologi member komunitas startup inovasi dailysocialid mengunduh laporan riset statistik seputar teknologi cumacuma mengikuti berita startup indonesia gadget terbaru\"\n        ],\n        \"semantic_type\": \"\",\n        \"description\": \"\"\n      }\n    }\n  ]\n}"
            }
          },
          "metadata": {},
          "execution_count": 13
        }
      ]
    },
    {
      "cell_type": "markdown",
      "source": [
        "#**Pembobotan Term Frequency-Inverse Document Frequency (TF-IDF)**"
      ],
      "metadata": {
        "id": "qf5bgu_hkvwK"
      }
    },
    {
      "cell_type": "code",
      "source": [
        "x = df['Hasil']\n",
        "y = df['kategori']"
      ],
      "metadata": {
        "id": "RK_br2ktbuTm"
      },
      "execution_count": null,
      "outputs": []
    },
    {
      "cell_type": "code",
      "source": [
        "from sklearn.feature_extraction.text import TfidfVectorizer\n",
        "\n",
        "tf_idf = TfidfVectorizer(ngram_range=(1,1))\n",
        "tf_idf.fit(x)"
      ],
      "metadata": {
        "colab": {
          "base_uri": "https://localhost:8080/",
          "height": 74
        },
        "id": "vvROL4QXlvbE",
        "outputId": "c0a19544-1ce7-4f64-e980-dfab3f483c5b"
      },
      "execution_count": null,
      "outputs": [
        {
          "output_type": "execute_result",
          "data": {
            "text/plain": [
              "TfidfVectorizer()"
            ],
            "text/html": [
              "<style>#sk-container-id-1 {color: black;background-color: white;}#sk-container-id-1 pre{padding: 0;}#sk-container-id-1 div.sk-toggleable {background-color: white;}#sk-container-id-1 label.sk-toggleable__label {cursor: pointer;display: block;width: 100%;margin-bottom: 0;padding: 0.3em;box-sizing: border-box;text-align: center;}#sk-container-id-1 label.sk-toggleable__label-arrow:before {content: \"▸\";float: left;margin-right: 0.25em;color: #696969;}#sk-container-id-1 label.sk-toggleable__label-arrow:hover:before {color: black;}#sk-container-id-1 div.sk-estimator:hover label.sk-toggleable__label-arrow:before {color: black;}#sk-container-id-1 div.sk-toggleable__content {max-height: 0;max-width: 0;overflow: hidden;text-align: left;background-color: #f0f8ff;}#sk-container-id-1 div.sk-toggleable__content pre {margin: 0.2em;color: black;border-radius: 0.25em;background-color: #f0f8ff;}#sk-container-id-1 input.sk-toggleable__control:checked~div.sk-toggleable__content {max-height: 200px;max-width: 100%;overflow: auto;}#sk-container-id-1 input.sk-toggleable__control:checked~label.sk-toggleable__label-arrow:before {content: \"▾\";}#sk-container-id-1 div.sk-estimator input.sk-toggleable__control:checked~label.sk-toggleable__label {background-color: #d4ebff;}#sk-container-id-1 div.sk-label input.sk-toggleable__control:checked~label.sk-toggleable__label {background-color: #d4ebff;}#sk-container-id-1 input.sk-hidden--visually {border: 0;clip: rect(1px 1px 1px 1px);clip: rect(1px, 1px, 1px, 1px);height: 1px;margin: -1px;overflow: hidden;padding: 0;position: absolute;width: 1px;}#sk-container-id-1 div.sk-estimator {font-family: monospace;background-color: #f0f8ff;border: 1px dotted black;border-radius: 0.25em;box-sizing: border-box;margin-bottom: 0.5em;}#sk-container-id-1 div.sk-estimator:hover {background-color: #d4ebff;}#sk-container-id-1 div.sk-parallel-item::after {content: \"\";width: 100%;border-bottom: 1px solid gray;flex-grow: 1;}#sk-container-id-1 div.sk-label:hover label.sk-toggleable__label {background-color: #d4ebff;}#sk-container-id-1 div.sk-serial::before {content: \"\";position: absolute;border-left: 1px solid gray;box-sizing: border-box;top: 0;bottom: 0;left: 50%;z-index: 0;}#sk-container-id-1 div.sk-serial {display: flex;flex-direction: column;align-items: center;background-color: white;padding-right: 0.2em;padding-left: 0.2em;position: relative;}#sk-container-id-1 div.sk-item {position: relative;z-index: 1;}#sk-container-id-1 div.sk-parallel {display: flex;align-items: stretch;justify-content: center;background-color: white;position: relative;}#sk-container-id-1 div.sk-item::before, #sk-container-id-1 div.sk-parallel-item::before {content: \"\";position: absolute;border-left: 1px solid gray;box-sizing: border-box;top: 0;bottom: 0;left: 50%;z-index: -1;}#sk-container-id-1 div.sk-parallel-item {display: flex;flex-direction: column;z-index: 1;position: relative;background-color: white;}#sk-container-id-1 div.sk-parallel-item:first-child::after {align-self: flex-end;width: 50%;}#sk-container-id-1 div.sk-parallel-item:last-child::after {align-self: flex-start;width: 50%;}#sk-container-id-1 div.sk-parallel-item:only-child::after {width: 0;}#sk-container-id-1 div.sk-dashed-wrapped {border: 1px dashed gray;margin: 0 0.4em 0.5em 0.4em;box-sizing: border-box;padding-bottom: 0.4em;background-color: white;}#sk-container-id-1 div.sk-label label {font-family: monospace;font-weight: bold;display: inline-block;line-height: 1.2em;}#sk-container-id-1 div.sk-label-container {text-align: center;}#sk-container-id-1 div.sk-container {/* jupyter's `normalize.less` sets `[hidden] { display: none; }` but bootstrap.min.css set `[hidden] { display: none !important; }` so we also need the `!important` here to be able to override the default hidden behavior on the sphinx rendered scikit-learn.org. See: https://github.com/scikit-learn/scikit-learn/issues/21755 */display: inline-block !important;position: relative;}#sk-container-id-1 div.sk-text-repr-fallback {display: none;}</style><div id=\"sk-container-id-1\" class=\"sk-top-container\"><div class=\"sk-text-repr-fallback\"><pre>TfidfVectorizer()</pre><b>In a Jupyter environment, please rerun this cell to show the HTML representation or trust the notebook. <br />On GitHub, the HTML representation is unable to render, please try loading this page with nbviewer.org.</b></div><div class=\"sk-container\" hidden><div class=\"sk-item\"><div class=\"sk-estimator sk-toggleable\"><input class=\"sk-toggleable__control sk-hidden--visually\" id=\"sk-estimator-id-1\" type=\"checkbox\" checked><label for=\"sk-estimator-id-1\" class=\"sk-toggleable__label sk-toggleable__label-arrow\">TfidfVectorizer</label><div class=\"sk-toggleable__content\"><pre>TfidfVectorizer()</pre></div></div></div></div></div>"
            ]
          },
          "metadata": {},
          "execution_count": 15
        }
      ]
    },
    {
      "cell_type": "code",
      "source": [
        "# Melihat Jumlah Fitur\n",
        "print(len(tf_idf.get_feature_names_out()))"
      ],
      "metadata": {
        "colab": {
          "base_uri": "https://localhost:8080/"
        },
        "id": "6i5NVHjKmA3j",
        "outputId": "60b617f7-4f52-4e7f-8c4b-153e49b279cd"
      },
      "execution_count": null,
      "outputs": [
        {
          "output_type": "stream",
          "name": "stdout",
          "text": [
            "54091\n"
          ]
        }
      ]
    },
    {
      "cell_type": "code",
      "source": [
        "# Melihat fitur-fitur apa saja yang ada di dalam dataset awal\n",
        "print(tf_idf.get_feature_names_out())"
      ],
      "metadata": {
        "colab": {
          "base_uri": "https://localhost:8080/"
        },
        "id": "RH2CDRIhmMPq",
        "outputId": "65fa0d18-ebd7-4835-ff87-c0ef17ef4f80"
      },
      "execution_count": null,
      "outputs": [
        {
          "output_type": "stream",
          "name": "stdout",
          "text": [
            "['aa' 'aaa' 'aaahhhh' ... 'šimi' 'μm' '한가']\n"
          ]
        }
      ]
    },
    {
      "cell_type": "markdown",
      "source": [
        "Hasil Setelah diberi Bobot Nilai dan diubah ke bentuk matriks"
      ],
      "metadata": {
        "id": "Bex0RX7SnZmx"
      }
    },
    {
      "cell_type": "code",
      "source": [
        "X_tf_idf = tf_idf.transform(x).toarray()\n",
        "X_tf_idf"
      ],
      "metadata": {
        "colab": {
          "base_uri": "https://localhost:8080/"
        },
        "id": "JiPh6rTEnWgz",
        "outputId": "6fc8c74a-4353-4201-d80c-ffe96a91617f"
      },
      "execution_count": null,
      "outputs": [
        {
          "output_type": "execute_result",
          "data": {
            "text/plain": [
              "array([[0., 0., 0., ..., 0., 0., 0.],\n",
              "       [0., 0., 0., ..., 0., 0., 0.],\n",
              "       [0., 0., 0., ..., 0., 0., 0.],\n",
              "       ...,\n",
              "       [0., 0., 0., ..., 0., 0., 0.],\n",
              "       [0., 0., 0., ..., 0., 0., 0.],\n",
              "       [0., 0., 0., ..., 0., 0., 0.]])"
            ]
          },
          "metadata": {},
          "execution_count": 18
        }
      ]
    },
    {
      "cell_type": "markdown",
      "source": [
        "#**Seleksi Fitur**\n"
      ],
      "metadata": {
        "id": "7vuXkd3cwMcQ"
      }
    },
    {
      "cell_type": "code",
      "source": [
        "data_tf_idf = pd.DataFrame(X_tf_idf, columns=tf_idf.get_feature_names_out())\n",
        "X = np.array(data_tf_idf)\n",
        "y = np.array(y)"
      ],
      "metadata": {
        "id": "NiIG10bewRmD"
      },
      "execution_count": null,
      "outputs": []
    },
    {
      "cell_type": "code",
      "source": [
        "from sklearn.feature_selection import SelectKBest\n",
        "from sklearn.feature_selection import chi2\n",
        "\n",
        "# 5000 dengan highest chi-squared statistics are selected\n",
        "chi2_features = SelectKBest(chi2, k=10000)\n",
        "X_kbest_features = chi2_features.fit_transform(X, y)\n",
        "\n",
        "# Reduksi features\n",
        "print('Angka Original Feature :', X.shape[1])\n",
        "print('Angka Reduksi Feature :', X_kbest_features.shape[1])"
      ],
      "metadata": {
        "colab": {
          "base_uri": "https://localhost:8080/"
        },
        "id": "vGKxiY6Lw1rJ",
        "outputId": "9a740ed5-3775-46df-8502-020acec873f6"
      },
      "execution_count": null,
      "outputs": [
        {
          "output_type": "stream",
          "name": "stdout",
          "text": [
            "Angka Original Feature : 54091\n",
            "Angka Reduksi Feature : 10000\n"
          ]
        }
      ]
    },
    {
      "cell_type": "code",
      "source": [
        "from sklearn.model_selection import train_test_split"
      ],
      "metadata": {
        "id": "IBNcHHkWzQDZ"
      },
      "execution_count": null,
      "outputs": []
    },
    {
      "cell_type": "code",
      "source": [
        "# Membagi data menjadi data latih dan data uji\n",
        "X_train, X_test, y_train, y_test = train_test_split(X_kbest_features, y, test_size=0.2, random_state=42)\n",
        "# Mendefinisikan label untuk plot\n",
        "labels = ['Data Training', 'Data Testing']\n",
        "sizes = [len(y_train), len(y_test)]\n",
        "colors = ['lightblue', 'lightcoral']\n",
        "\n",
        "# Buat plot\n",
        "plt.figure(figsize=(6,6))\n",
        "bars = plt.bar(labels, sizes, color=colors)\n",
        "\n",
        "# Menambahkan label angka di atas setiap batang\n",
        "for bar in bars:\n",
        "    yval = bar.get_height()\n",
        "    plt.text(bar.get_x() + bar.get_width()/2, yval, round(yval, 2), va='bottom', ha='center')\n",
        "\n",
        "plt.title('Distribusi Data Training dan Data Testing')\n",
        "plt.xlabel('Variabel Distribusi')\n",
        "plt.ylabel('Jumlah Data')\n",
        "plt.show()"
      ],
      "metadata": {
        "id": "eCsoM748zQyH",
        "colab": {
          "base_uri": "https://localhost:8080/",
          "height": 564
        },
        "outputId": "61b644be-3221-448a-f1c0-3d421ce1d1c2"
      },
      "execution_count": null,
      "outputs": [
        {
          "output_type": "display_data",
          "data": {
            "text/plain": [
              "<Figure size 600x600 with 1 Axes>"
            ],
            "image/png": "[encoded data removed]"
          },
          "metadata": {}
        }
      ]
    },
    {
      "cell_type": "code",
      "source": [
        "from sklearn.naive_bayes import MultinomialNB"
      ],
      "metadata": {
        "id": "DjPKGo_q07wE"
      },
      "execution_count": null,
      "outputs": []
    },
    {
      "cell_type": "code",
      "source": [
        "from sklearn.model_selection import cross_val_score, KFold, GridSearchCV"
      ],
      "metadata": {
        "id": "NK7wukiG1Jps"
      },
      "execution_count": null,
      "outputs": []
    },
    {
      "cell_type": "code",
      "source": [
        "model = MultinomialNB()\n",
        "# Melakukan validasi silang sebelum hyperparameter tuning\n",
        "CV = KFold(n_splits=5, shuffle=True, random_state=42)\n",
        "scores = cross_val_score(model, X_train, y_train, cv=CV)\n",
        "\n",
        "# Menampilkan hasil\n",
        "print(\"Cross-Validation Sebelum Hyperparameter Tuning\")\n",
        "print('\\t5-Fold Validation Scores:', [f\"{score*100:.2f}%\" for score in scores])\n",
        "print(f'\\tCross Validation Training Accuracy: {np.mean(scores)*100:.3f}% ({np.std(scores)*100:.3f}%)')\n"
      ],
      "metadata": {
        "colab": {
          "base_uri": "https://localhost:8080/"
        },
        "id": "U2Gc-FWZrJEg",
        "outputId": "e212d3ea-2bef-4d38-d591-16aef368243f"
      },
      "execution_count": null,
      "outputs": [
        {
          "output_type": "stream",
          "name": "stdout",
          "text": [
            "Cross-Validation Sebelum Hyperparameter Tuning\n",
            "\t5-Fold Validation Scores: ['97.40%', '97.40%', '97.29%', '97.92%', '97.81%']\n",
            "\tCross Validation Training Accuracy: 97.562% (0.252%)\n"
          ]
        }
      ]
    },
    {
      "cell_type": "code",
      "source": [
        "# Definisikan hyperparameter yang akan dicari\n",
        "param_grid = {\n",
        "    'alpha': [0.01, 0.1, 0.5, 1.0, 2.0],\n",
        "    'fit_prior': [True, False]\n",
        "}"
      ],
      "metadata": {
        "id": "X56YQ3V7nMLa"
      },
      "execution_count": null,
      "outputs": []
    },
    {
      "cell_type": "code",
      "source": [
        "# Inisialisasi model\n",
        "model = MultinomialNB()\n",
        "\n",
        "# Inisialisasi GridSearchCV\n",
        "grid_search = GridSearchCV(estimator=model, param_grid=param_grid, cv=5, n_jobs=-1, verbose=2)\n",
        "\n",
        "# Melatih GridSearchCV\n",
        "grid_search.fit(X_train, y_train)\n",
        "\n",
        "# Mendapatkan hyperparameter terbaik\n",
        "best_params = grid_search.best_params_\n",
        "print(f\"Hyperparameter terbaik: {best_params}\")\n",
        "\n",
        "# Melatih ulang model dengan hyperparameter terbaik\n",
        "best_model = grid_search.best_estimator_\n",
        "\n",
        "# Cross-validation setelah hyperparameter tuning\n",
        "scores = cross_val_score(best_model, X_train, y_train, cv=CV)\n",
        "\n",
        "# Menampilkan hasil\n",
        "print(\"Cross-Validation Sesudah Hyperparameter Tuning\")\n",
        "print('\\t5-Fold Validation Scores:', [f\"{score*100:.2f}%\" for score in scores])\n",
        "print(f'\\tCross Validation Training Accuracy: {np.mean(scores)*100:.3f}% ({np.std(scores)*100:.3f}%)')\n"
      ],
      "metadata": {
        "id": "6Z25R4C91qZA",
        "colab": {
          "base_uri": "https://localhost:8080/"
        },
        "outputId": "584a941f-0bcd-4557-a996-64503d926540"
      },
      "execution_count": null,
      "outputs": [
        {
          "output_type": "stream",
          "name": "stdout",
          "text": [
            "Fitting 5 folds for each of 10 candidates, totalling 50 fits\n",
            "Hyperparameter terbaik: {'alpha': 0.01, 'fit_prior': True}\n",
            "Cross-Validation Sesudah Hyperparameter Tuning\n",
            "\t5-Fold Validation Scores: ['97.92%', '97.71%', '97.40%', '98.12%', '98.02%']\n",
            "\tCross Validation Training Accuracy: 97.833% (0.259%)\n"
          ]
        }
      ]
    },
    {
      "cell_type": "code",
      "source": [
        "# Melakukan prediksi\n",
        "y_pred = best_model.predict(X_test)\n",
        "\n",
        "# Menghitung dan menampilkan metrik evaluasi\n",
        "from sklearn.metrics import confusion_matrix, accuracy_score, precision_score, recall_score, f1_score\n",
        "\n",
        "print('Confusion Matrix:\\n', confusion_matrix(y_test, y_pred))\n",
        "print('Accuracy: ', accuracy_score(y_test, y_pred))\n",
        "print('Precision: ', precision_score(y_test, y_pred, average='micro'))\n",
        "print('Recall Score: ', recall_score(y_test, y_pred, average='micro'))\n",
        "print('F1 Score: ', f1_score(y_test, y_pred, average='micro'))\n",
        "\n",
        "# Membuat confusion matrix dengan warna\n",
        "plt.figure(figsize=(8, 6))\n",
        "sns.heatmap(confusion_matrix(y_test, y_pred), annot=True, cmap='Blues', fmt='g')\n",
        "plt.xlabel('Predicted labels')\n",
        "plt.ylabel('True labels')\n",
        "plt.title('Confusion Matrix - Multinomial Naive Bayes')\n",
        "plt.show()"
      ],
      "metadata": {
        "colab": {
          "base_uri": "https://localhost:8080/",
          "height": 703
        },
        "id": "Pg2_lbOO1jKs",
        "outputId": "ce5ac705-d045-4b5b-f063-3af326624841"
      },
      "execution_count": null,
      "outputs": [
        {
          "output_type": "stream",
          "name": "stdout",
          "text": [
            "Confusion Matrix:\n",
            " [[374   3   6]\n",
            " [  4 375   1]\n",
            " [ 21   0 416]]\n",
            "Accuracy:  0.9708333333333333\n",
            "Precision:  0.9708333333333333\n",
            "Recall Score:  0.9708333333333333\n",
            "F1 Score:  0.9708333333333333\n"
          ]
        },
        {
          "output_type": "display_data",
          "data": {
            "text/plain": [
              "<Figure size 800x600 with 2 Axes>"
            ],
            "image/png": "[encoded data removed]"
          },
          "metadata": {}
        }
      ]
    },
    {
      "cell_type": "code",
      "source": [],
      "metadata": {
        "id": "_I6MP_e075BU"
      },
      "execution_count": null,
      "outputs": []
    },
    {
      "cell_type": "code",
      "source": [
        "from sklearn.metrics import confusion_matrix, accuracy_score, precision_score, recall_score, f1_score"
      ],
      "metadata": {
        "id": "RLE0snpj3LKO"
      },
      "execution_count": null,
      "outputs": []
    },
    {
      "cell_type": "code",
      "source": [
        "from sklearn.metrics import classification_report\n",
        "\n",
        "# Mendapatkan daftar kategori unik dalam data\n",
        "unique_categories = np.unique(y)\n",
        "\n",
        "# Membuat dictionary untuk menyimpan metrik evaluasi untuk setiap kategori\n",
        "metrics_per_category = {}\n",
        "\n",
        "# Menghitung dan menyimpan metrik evaluasi untuk setiap kategori\n",
        "for category in unique_categories:\n",
        "    # Mendapatkan data yang hanya termasuk dalam kategori tertentu\n",
        "    y_test_category = y_test[y_test == category]\n",
        "    predicted_category = y_pred[y_test == category]\n",
        "\n",
        "    # Menghitung metrik evaluasi untuk kategori tersebut\n",
        "    acc = accuracy_score(y_test_category, predicted_category)\n",
        "    prec = precision_score(y_test_category, predicted_category, average='micro')\n",
        "    rec = recall_score(y_test_category, predicted_category, average='micro')\n",
        "    f1 = f1_score(y_test_category, predicted_category, average='micro')\n",
        "    report = classification_report(y_test_category, predicted_category, output_dict=True)\n",
        "    support = report['weighted avg']['support']\n",
        "\n",
        "    # Menyimpan metrik evaluasi untuk kategori tersebut\n",
        "    metrics_per_category[category] = {'Accuracy': acc, 'Precision': prec, 'Recall': rec, 'F1 Score': f1, 'Support': support}\n",
        "\n",
        "# Mengonversi dictionary ke dalam DataFrame\n",
        "metrics_df = pd.DataFrame.from_dict(metrics_per_category, orient='index')\n",
        "\n",
        "# Menambahkan baris untuk nilai rata-rata atau total\n",
        "metrics_df.loc['Avg/Total'] = metrics_df.mean()\n",
        "\n",
        "# Fungsi untuk mengubah desimal menjadi persentase\n",
        "def format_percentage(x):\n",
        "    return \"{:.2%}\".format(x)\n",
        "\n",
        "# Mengonversi desimal menjadi persentase dalam DataFrame\n",
        "metrics_df_percent = metrics_df.applymap(format_percentage)\n",
        "\n",
        "# Menampilkan tabel matriks dengan nilai dalam format persentase\n",
        "print(metrics_df_percent)"
      ],
      "metadata": {
        "colab": {
          "base_uri": "https://localhost:8080/"
        },
        "id": "WCSQkdzx37aS",
        "outputId": "fe321b38-bc6e-4406-87c9-46c66da909a5"
      },
      "execution_count": null,
      "outputs": [
        {
          "output_type": "stream",
          "name": "stderr",
          "text": [
            "/usr/local/lib/python3.10/dist-packages/sklearn/metrics/_classification.py:1344: UndefinedMetricWarning: Recall and F-score are ill-defined and being set to 0.0 in labels with no true samples. Use `zero_division` parameter to control this behavior.\n",
            "  _warn_prf(average, modifier, msg_start, len(result))\n",
            "/usr/local/lib/python3.10/dist-packages/sklearn/metrics/_classification.py:1344: UndefinedMetricWarning: Recall and F-score are ill-defined and being set to 0.0 in labels with no true samples. Use `zero_division` parameter to control this behavior.\n",
            "  _warn_prf(average, modifier, msg_start, len(result))\n",
            "/usr/local/lib/python3.10/dist-packages/sklearn/metrics/_classification.py:1344: UndefinedMetricWarning: Recall and F-score are ill-defined and being set to 0.0 in labels with no true samples. Use `zero_division` parameter to control this behavior.\n",
            "  _warn_prf(average, modifier, msg_start, len(result))\n",
            "/usr/local/lib/python3.10/dist-packages/sklearn/metrics/_classification.py:1344: UndefinedMetricWarning: Recall and F-score are ill-defined and being set to 0.0 in labels with no true samples. Use `zero_division` parameter to control this behavior.\n",
            "  _warn_prf(average, modifier, msg_start, len(result))\n",
            "/usr/local/lib/python3.10/dist-packages/sklearn/metrics/_classification.py:1344: UndefinedMetricWarning: Recall and F-score are ill-defined and being set to 0.0 in labels with no true samples. Use `zero_division` parameter to control this behavior.\n",
            "  _warn_prf(average, modifier, msg_start, len(result))\n",
            "/usr/local/lib/python3.10/dist-packages/sklearn/metrics/_classification.py:1344: UndefinedMetricWarning: Recall and F-score are ill-defined and being set to 0.0 in labels with no true samples. Use `zero_division` parameter to control this behavior.\n",
            "  _warn_prf(average, modifier, msg_start, len(result))\n",
            "/usr/local/lib/python3.10/dist-packages/sklearn/metrics/_classification.py:1344: UndefinedMetricWarning: Recall and F-score are ill-defined and being set to 0.0 in labels with no true samples. Use `zero_division` parameter to control this behavior.\n",
            "  _warn_prf(average, modifier, msg_start, len(result))\n",
            "/usr/local/lib/python3.10/dist-packages/sklearn/metrics/_classification.py:1344: UndefinedMetricWarning: Recall and F-score are ill-defined and being set to 0.0 in labels with no true samples. Use `zero_division` parameter to control this behavior.\n",
            "  _warn_prf(average, modifier, msg_start, len(result))\n",
            "/usr/local/lib/python3.10/dist-packages/sklearn/metrics/_classification.py:1344: UndefinedMetricWarning: Recall and F-score are ill-defined and being set to 0.0 in labels with no true samples. Use `zero_division` parameter to control this behavior.\n",
            "  _warn_prf(average, modifier, msg_start, len(result))\n"
          ]
        },
        {
          "output_type": "stream",
          "name": "stdout",
          "text": [
            "          Accuracy Precision  Recall F1 Score    Support\n",
            "hiburan     97.65%    97.65%  97.65%   97.65%  38300.00%\n",
            "olahraga    98.68%    98.68%  98.68%   98.68%  38000.00%\n",
            "teknologi   95.19%    95.19%  95.19%   95.19%  43700.00%\n",
            "Avg/Total   97.18%    97.18%  97.18%   97.18%  40000.00%\n"
          ]
        }
      ]
    }
  ]
}